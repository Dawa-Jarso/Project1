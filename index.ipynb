{
 "cells": [
  {
   "cell_type": "markdown",
   "id": "45b8e394",
   "metadata": {},
   "source": [
    "## Defining the bussiness problem\n",
    "The company wants expand and are intrested in purchasing airplanes for commercial and private enterprices. The aviation data set will aid in determining which aircrafts are low risk for the company start the new bussiness endeavour.\n"
   ]
  },
  {
   "cell_type": "markdown",
   "id": "0ff3798e",
   "metadata": {},
   "source": [
    "## Understanding the context\n",
    "Understanding the factors leading to aviation accidents will aid in determining the most suitable aircraft to be used by the company.\n"
   ]
  },
  {
   "cell_type": "markdown",
   "id": "6ebb059b",
   "metadata": {},
   "source": [
    "## Recording the Experimental Design\n",
    "Data Collection: Obtained historica aviation accidents from 1948 to 2022.\n",
    "Data Cleaning: Handle missing values, Handle null values and Remove duplicated \n"
   ]
  },
  {
   "cell_type": "code",
   "execution_count": 103,
   "id": "ea12a36e",
   "metadata": {},
   "outputs": [],
   "source": [
    "#Importing the necessary libraries\n",
    "import pandas as pd\n",
    "import matplotlib.pyplot as plt\n",
    "import seaborn as sns\n",
    "import numpy as np\n"
   ]
  },
  {
   "cell_type": "code",
   "execution_count": 104,
   "id": "5c508fc5",
   "metadata": {},
   "outputs": [
    {
     "data": {
      "text/html": [
       "<div>\n",
       "<style scoped>\n",
       "    .dataframe tbody tr th:only-of-type {\n",
       "        vertical-align: middle;\n",
       "    }\n",
       "\n",
       "    .dataframe tbody tr th {\n",
       "        vertical-align: top;\n",
       "    }\n",
       "\n",
       "    .dataframe thead th {\n",
       "        text-align: right;\n",
       "    }\n",
       "</style>\n",
       "<table border=\"1\" class=\"dataframe\">\n",
       "  <thead>\n",
       "    <tr style=\"text-align: right;\">\n",
       "      <th></th>\n",
       "      <th>Event.Id</th>\n",
       "      <th>Investigation.Type</th>\n",
       "      <th>Accident.Number</th>\n",
       "      <th>Event.Date</th>\n",
       "      <th>Location</th>\n",
       "      <th>Country</th>\n",
       "      <th>Latitude</th>\n",
       "      <th>Longitude</th>\n",
       "      <th>Airport.Code</th>\n",
       "      <th>Airport.Name</th>\n",
       "      <th>...</th>\n",
       "      <th>Purpose.of.flight</th>\n",
       "      <th>Air.carrier</th>\n",
       "      <th>Total.Fatal.Injuries</th>\n",
       "      <th>Total.Serious.Injuries</th>\n",
       "      <th>Total.Minor.Injuries</th>\n",
       "      <th>Total.Uninjured</th>\n",
       "      <th>Weather.Condition</th>\n",
       "      <th>Broad.phase.of.flight</th>\n",
       "      <th>Report.Status</th>\n",
       "      <th>Publication.Date</th>\n",
       "    </tr>\n",
       "  </thead>\n",
       "  <tbody>\n",
       "    <tr>\n",
       "      <th>0</th>\n",
       "      <td>20001218X45444</td>\n",
       "      <td>Accident</td>\n",
       "      <td>SEA87LA080</td>\n",
       "      <td>24/10/1948</td>\n",
       "      <td>MOOSE CREEK, ID</td>\n",
       "      <td>United States</td>\n",
       "      <td>NaN</td>\n",
       "      <td>NaN</td>\n",
       "      <td>NaN</td>\n",
       "      <td>NaN</td>\n",
       "      <td>...</td>\n",
       "      <td>Personal</td>\n",
       "      <td>NaN</td>\n",
       "      <td>2.0</td>\n",
       "      <td>0.0</td>\n",
       "      <td>0.0</td>\n",
       "      <td>0.0</td>\n",
       "      <td>UNK</td>\n",
       "      <td>Cruise</td>\n",
       "      <td>Probable Cause</td>\n",
       "      <td>NaN</td>\n",
       "    </tr>\n",
       "    <tr>\n",
       "      <th>1</th>\n",
       "      <td>20001218X45447</td>\n",
       "      <td>Accident</td>\n",
       "      <td>LAX94LA336</td>\n",
       "      <td>19/07/1962</td>\n",
       "      <td>BRIDGEPORT, CA</td>\n",
       "      <td>United States</td>\n",
       "      <td>NaN</td>\n",
       "      <td>NaN</td>\n",
       "      <td>NaN</td>\n",
       "      <td>NaN</td>\n",
       "      <td>...</td>\n",
       "      <td>Personal</td>\n",
       "      <td>NaN</td>\n",
       "      <td>4.0</td>\n",
       "      <td>0.0</td>\n",
       "      <td>0.0</td>\n",
       "      <td>0.0</td>\n",
       "      <td>UNK</td>\n",
       "      <td>Unknown</td>\n",
       "      <td>Probable Cause</td>\n",
       "      <td>19/09/1996</td>\n",
       "    </tr>\n",
       "    <tr>\n",
       "      <th>2</th>\n",
       "      <td>20061025X01555</td>\n",
       "      <td>Accident</td>\n",
       "      <td>NYC07LA005</td>\n",
       "      <td>30/08/1974</td>\n",
       "      <td>Saltville, VA</td>\n",
       "      <td>United States</td>\n",
       "      <td>36.922223</td>\n",
       "      <td>-81.878056</td>\n",
       "      <td>NaN</td>\n",
       "      <td>NaN</td>\n",
       "      <td>...</td>\n",
       "      <td>Personal</td>\n",
       "      <td>NaN</td>\n",
       "      <td>3.0</td>\n",
       "      <td>NaN</td>\n",
       "      <td>NaN</td>\n",
       "      <td>NaN</td>\n",
       "      <td>IMC</td>\n",
       "      <td>Cruise</td>\n",
       "      <td>Probable Cause</td>\n",
       "      <td>26/02/2007</td>\n",
       "    </tr>\n",
       "    <tr>\n",
       "      <th>3</th>\n",
       "      <td>20001218X45448</td>\n",
       "      <td>Accident</td>\n",
       "      <td>LAX96LA321</td>\n",
       "      <td>19/06/1977</td>\n",
       "      <td>EUREKA, CA</td>\n",
       "      <td>United States</td>\n",
       "      <td>NaN</td>\n",
       "      <td>NaN</td>\n",
       "      <td>NaN</td>\n",
       "      <td>NaN</td>\n",
       "      <td>...</td>\n",
       "      <td>Personal</td>\n",
       "      <td>NaN</td>\n",
       "      <td>2.0</td>\n",
       "      <td>0.0</td>\n",
       "      <td>0.0</td>\n",
       "      <td>0.0</td>\n",
       "      <td>IMC</td>\n",
       "      <td>Cruise</td>\n",
       "      <td>Probable Cause</td>\n",
       "      <td>12/09/2000</td>\n",
       "    </tr>\n",
       "    <tr>\n",
       "      <th>4</th>\n",
       "      <td>20041105X01764</td>\n",
       "      <td>Accident</td>\n",
       "      <td>CHI79FA064</td>\n",
       "      <td>02/08/1979</td>\n",
       "      <td>Canton, OH</td>\n",
       "      <td>United States</td>\n",
       "      <td>NaN</td>\n",
       "      <td>NaN</td>\n",
       "      <td>NaN</td>\n",
       "      <td>NaN</td>\n",
       "      <td>...</td>\n",
       "      <td>Personal</td>\n",
       "      <td>NaN</td>\n",
       "      <td>1.0</td>\n",
       "      <td>2.0</td>\n",
       "      <td>NaN</td>\n",
       "      <td>0.0</td>\n",
       "      <td>VMC</td>\n",
       "      <td>Approach</td>\n",
       "      <td>Probable Cause</td>\n",
       "      <td>16/04/1980</td>\n",
       "    </tr>\n",
       "  </tbody>\n",
       "</table>\n",
       "<p>5 rows × 31 columns</p>\n",
       "</div>"
      ],
      "text/plain": [
       "         Event.Id Investigation.Type Accident.Number  Event.Date  \\\n",
       "0  20001218X45444           Accident      SEA87LA080  24/10/1948   \n",
       "1  20001218X45447           Accident      LAX94LA336  19/07/1962   \n",
       "2  20061025X01555           Accident      NYC07LA005  30/08/1974   \n",
       "3  20001218X45448           Accident      LAX96LA321  19/06/1977   \n",
       "4  20041105X01764           Accident      CHI79FA064  02/08/1979   \n",
       "\n",
       "          Location        Country   Latitude   Longitude Airport.Code  \\\n",
       "0  MOOSE CREEK, ID  United States        NaN         NaN          NaN   \n",
       "1   BRIDGEPORT, CA  United States        NaN         NaN          NaN   \n",
       "2    Saltville, VA  United States  36.922223  -81.878056          NaN   \n",
       "3       EUREKA, CA  United States        NaN         NaN          NaN   \n",
       "4       Canton, OH  United States        NaN         NaN          NaN   \n",
       "\n",
       "  Airport.Name  ... Purpose.of.flight Air.carrier Total.Fatal.Injuries  \\\n",
       "0          NaN  ...          Personal         NaN                  2.0   \n",
       "1          NaN  ...          Personal         NaN                  4.0   \n",
       "2          NaN  ...          Personal         NaN                  3.0   \n",
       "3          NaN  ...          Personal         NaN                  2.0   \n",
       "4          NaN  ...          Personal         NaN                  1.0   \n",
       "\n",
       "  Total.Serious.Injuries Total.Minor.Injuries Total.Uninjured  \\\n",
       "0                    0.0                  0.0             0.0   \n",
       "1                    0.0                  0.0             0.0   \n",
       "2                    NaN                  NaN             NaN   \n",
       "3                    0.0                  0.0             0.0   \n",
       "4                    2.0                  NaN             0.0   \n",
       "\n",
       "  Weather.Condition  Broad.phase.of.flight   Report.Status Publication.Date  \n",
       "0               UNK                 Cruise  Probable Cause              NaN  \n",
       "1               UNK                Unknown  Probable Cause       19/09/1996  \n",
       "2               IMC                 Cruise  Probable Cause       26/02/2007  \n",
       "3               IMC                 Cruise  Probable Cause       12/09/2000  \n",
       "4               VMC               Approach  Probable Cause       16/04/1980  \n",
       "\n",
       "[5 rows x 31 columns]"
      ]
     },
     "execution_count": 104,
     "metadata": {},
     "output_type": "execute_result"
    }
   ],
   "source": [
    "# using pandas to load csv file\n",
    "df = pd.read_csv(\"AviationData.csv\",low_memory = False)\n",
    "df.head()"
   ]
  },
  {
   "cell_type": "code",
   "execution_count": 105,
   "id": "72804ac4",
   "metadata": {},
   "outputs": [
    {
     "data": {
      "text/plain": [
       "(88889, 31)"
      ]
     },
     "execution_count": 105,
     "metadata": {},
     "output_type": "execute_result"
    }
   ],
   "source": [
    "# Shape of the dataset\n",
    "df.shape"
   ]
  },
  {
   "cell_type": "code",
   "execution_count": 106,
   "id": "c5b9d4da",
   "metadata": {},
   "outputs": [
    {
     "name": "stdout",
     "output_type": "stream",
     "text": [
      "<class 'pandas.core.frame.DataFrame'>\n",
      "RangeIndex: 88889 entries, 0 to 88888\n",
      "Data columns (total 31 columns):\n",
      " #   Column                  Non-Null Count  Dtype  \n",
      "---  ------                  --------------  -----  \n",
      " 0   Event.Id                88889 non-null  object \n",
      " 1   Investigation.Type      88889 non-null  object \n",
      " 2   Accident.Number         88889 non-null  object \n",
      " 3   Event.Date              88889 non-null  object \n",
      " 4   Location                88837 non-null  object \n",
      " 5   Country                 88663 non-null  object \n",
      " 6   Latitude                34382 non-null  object \n",
      " 7   Longitude               34373 non-null  object \n",
      " 8   Airport.Code            50249 non-null  object \n",
      " 9   Airport.Name            52790 non-null  object \n",
      " 10  Injury.Severity         87889 non-null  object \n",
      " 11  Aircraft.damage         85695 non-null  object \n",
      " 12  Aircraft.Category       32287 non-null  object \n",
      " 13  Registration.Number     87572 non-null  object \n",
      " 14  Make                    88826 non-null  object \n",
      " 15  Model                   88797 non-null  object \n",
      " 16  Amateur.Built           88787 non-null  object \n",
      " 17  Number.of.Engines       82805 non-null  float64\n",
      " 18  Engine.Type             81812 non-null  object \n",
      " 19  FAR.Description         32023 non-null  object \n",
      " 20  Schedule                12582 non-null  object \n",
      " 21  Purpose.of.flight       82697 non-null  object \n",
      " 22  Air.carrier             16648 non-null  object \n",
      " 23  Total.Fatal.Injuries    77488 non-null  float64\n",
      " 24  Total.Serious.Injuries  76379 non-null  float64\n",
      " 25  Total.Minor.Injuries    76956 non-null  float64\n",
      " 26  Total.Uninjured         82977 non-null  float64\n",
      " 27  Weather.Condition       84397 non-null  object \n",
      " 28  Broad.phase.of.flight   61724 non-null  object \n",
      " 29  Report.Status           82508 non-null  object \n",
      " 30  Publication.Date        75118 non-null  object \n",
      "dtypes: float64(5), object(26)\n",
      "memory usage: 21.0+ MB\n"
     ]
    }
   ],
   "source": [
    "# Description of the dataset\n",
    "df.info()"
   ]
  },
  {
   "cell_type": "code",
   "execution_count": 107,
   "id": "1e2f4a73",
   "metadata": {},
   "outputs": [
    {
     "data": {
      "text/plain": [
       "Index(['Event.Id', 'Investigation.Type', 'Accident.Number', 'Event.Date',\n",
       "       'Location', 'Country', 'Latitude', 'Longitude', 'Airport.Code',\n",
       "       'Airport.Name', 'Injury.Severity', 'Aircraft.damage',\n",
       "       'Aircraft.Category', 'Registration.Number', 'Make', 'Model',\n",
       "       'Amateur.Built', 'Number.of.Engines', 'Engine.Type', 'FAR.Description',\n",
       "       'Schedule', 'Purpose.of.flight', 'Air.carrier', 'Total.Fatal.Injuries',\n",
       "       'Total.Serious.Injuries', 'Total.Minor.Injuries', 'Total.Uninjured',\n",
       "       'Weather.Condition', 'Broad.phase.of.flight', 'Report.Status',\n",
       "       'Publication.Date'],\n",
       "      dtype='object')"
      ]
     },
     "execution_count": 107,
     "metadata": {},
     "output_type": "execute_result"
    }
   ],
   "source": [
    "# lidt of columns in the dataset\n",
    "df.columns"
   ]
  },
  {
   "cell_type": "code",
   "execution_count": 108,
   "id": "089c5111",
   "metadata": {},
   "outputs": [
    {
     "data": {
      "text/plain": [
       "0"
      ]
     },
     "execution_count": 108,
     "metadata": {},
     "output_type": "execute_result"
    }
   ],
   "source": [
    "# Checking for duplicated rows\n",
    "df.duplicated().sum()"
   ]
  },
  {
   "cell_type": "code",
   "execution_count": 109,
   "id": "547e4c29",
   "metadata": {},
   "outputs": [
    {
     "data": {
      "text/plain": [
       "Event.Id                  False\n",
       "Investigation.Type        False\n",
       "Accident.Number           False\n",
       "Event.Date                False\n",
       "Location                   True\n",
       "Country                    True\n",
       "Latitude                   True\n",
       "Longitude                  True\n",
       "Airport.Code               True\n",
       "Airport.Name               True\n",
       "Injury.Severity            True\n",
       "Aircraft.damage            True\n",
       "Aircraft.Category          True\n",
       "Registration.Number        True\n",
       "Make                       True\n",
       "Model                      True\n",
       "Amateur.Built              True\n",
       "Number.of.Engines          True\n",
       "Engine.Type                True\n",
       "FAR.Description            True\n",
       "Schedule                   True\n",
       "Purpose.of.flight          True\n",
       "Air.carrier                True\n",
       "Total.Fatal.Injuries       True\n",
       "Total.Serious.Injuries     True\n",
       "Total.Minor.Injuries       True\n",
       "Total.Uninjured            True\n",
       "Weather.Condition          True\n",
       "Broad.phase.of.flight      True\n",
       "Report.Status              True\n",
       "Publication.Date           True\n",
       "dtype: bool"
      ]
     },
     "execution_count": 109,
     "metadata": {},
     "output_type": "execute_result"
    }
   ],
   "source": [
    "# Checking for missing values in each column\n",
    "missing_values = df.isnull().any()\n",
    "missing_values"
   ]
  },
  {
   "cell_type": "code",
   "execution_count": 110,
   "id": "12f38d43",
   "metadata": {},
   "outputs": [
    {
     "data": {
      "text/plain": [
       "Event.Id                      0\n",
       "Investigation.Type            0\n",
       "Accident.Number               0\n",
       "Event.Date                    0\n",
       "Location                     52\n",
       "Country                     226\n",
       "Latitude                  54507\n",
       "Longitude                 54516\n",
       "Airport.Code              38640\n",
       "Airport.Name              36099\n",
       "Injury.Severity            1000\n",
       "Aircraft.damage            3194\n",
       "Aircraft.Category         56602\n",
       "Registration.Number        1317\n",
       "Make                         63\n",
       "Model                        92\n",
       "Amateur.Built               102\n",
       "Number.of.Engines          6084\n",
       "Engine.Type                7077\n",
       "FAR.Description           56866\n",
       "Schedule                  76307\n",
       "Purpose.of.flight          6192\n",
       "Air.carrier               72241\n",
       "Total.Fatal.Injuries      11401\n",
       "Total.Serious.Injuries    12510\n",
       "Total.Minor.Injuries      11933\n",
       "Total.Uninjured            5912\n",
       "Weather.Condition          4492\n",
       "Broad.phase.of.flight     27165\n",
       "Report.Status              6381\n",
       "Publication.Date          13771\n",
       "dtype: int64"
      ]
     },
     "execution_count": 110,
     "metadata": {},
     "output_type": "execute_result"
    }
   ],
   "source": [
    "#Checking for the total number of missing per each column\n",
    "df.isnull().sum()"
   ]
  },
  {
   "cell_type": "code",
   "execution_count": 111,
   "id": "da3c0bfb",
   "metadata": {},
   "outputs": [],
   "source": [
    "#dropping the columns that have more than 50% missing values\n",
    "threshold = len(df) * 0.5\n",
    "df = df.dropna(thresh=threshold, axis=1, inplace=False)"
   ]
  },
  {
   "cell_type": "code",
   "execution_count": 112,
   "id": "7d27c47b",
   "metadata": {},
   "outputs": [
    {
     "data": {
      "text/plain": [
       "(88889, 25)"
      ]
     },
     "execution_count": 112,
     "metadata": {},
     "output_type": "execute_result"
    }
   ],
   "source": [
    "df.shape"
   ]
  },
  {
   "cell_type": "code",
   "execution_count": 113,
   "id": "b3c7a573",
   "metadata": {},
   "outputs": [
    {
     "data": {
      "text/plain": [
       "Event.Id                     0\n",
       "Investigation.Type           0\n",
       "Accident.Number              0\n",
       "Event.Date                   0\n",
       "Location                     0\n",
       "Country                      0\n",
       "Airport.Code                 0\n",
       "Airport.Name                 0\n",
       "Injury.Severity              0\n",
       "Aircraft.damage              0\n",
       "Registration.Number          0\n",
       "Make                        63\n",
       "Model                       92\n",
       "Amateur.Built                0\n",
       "Number.of.Engines         6084\n",
       "Engine.Type               7077\n",
       "Purpose.of.flight            0\n",
       "Total.Fatal.Injuries         0\n",
       "Total.Serious.Injuries       0\n",
       "Total.Minor.Injuries         0\n",
       "Total.Uninjured              0\n",
       "Weather.Condition            0\n",
       "Broad.phase.of.flight        0\n",
       "Report.Status                0\n",
       "Publication.Date             0\n",
       "dtype: int64"
      ]
     },
     "execution_count": 113,
     "metadata": {},
     "output_type": "execute_result"
    }
   ],
   "source": [
    "#filling the missing values with \"Unknown\" for categorical columns\n",
    "for col in ['Location','Airport.Code', 'Country','Registration.Number', 'Amateur.Built','Weather.Condition','Report.Status','Publication.Date','Total.Fatal.Injuries','Total.Serious.Injuries','Total.Minor.Injuries','Total.Uninjured','Aircraft.damage','Purpose.of.flight','Broad.phase.of.flight','Report.Status','Airport.Name','Injury.Severity']:\n",
    "    df[col] = df[col].fillna(\"Unknown\")\n",
    "df.isnull().sum()"
   ]
  },
  {
   "cell_type": "code",
   "execution_count": 114,
   "id": "42d9fa7c",
   "metadata": {},
   "outputs": [
    {
     "data": {
      "text/plain": [
       "Event.Id                  0\n",
       "Investigation.Type        0\n",
       "Accident.Number           0\n",
       "Event.Date                0\n",
       "Location                  0\n",
       "Country                   0\n",
       "Airport.Code              0\n",
       "Airport.Name              0\n",
       "Injury.Severity           0\n",
       "Aircraft.damage           0\n",
       "Registration.Number       0\n",
       "Make                      0\n",
       "Model                     0\n",
       "Amateur.Built             0\n",
       "Number.of.Engines         0\n",
       "Engine.Type               0\n",
       "Purpose.of.flight         0\n",
       "Total.Fatal.Injuries      0\n",
       "Total.Serious.Injuries    0\n",
       "Total.Minor.Injuries      0\n",
       "Total.Uninjured           0\n",
       "Weather.Condition         0\n",
       "Broad.phase.of.flight     0\n",
       "Report.Status             0\n",
       "Publication.Date          0\n",
       "dtype: int64"
      ]
     },
     "execution_count": 114,
     "metadata": {},
     "output_type": "execute_result"
    }
   ],
   "source": [
    "# Dropping rows with missing values in critical columns\n",
    "df = df.dropna(subset=['Make', 'Model', 'Engine.Type', 'Number.of.Engines',])\n",
    "df.isnull().sum()\n",
    "\n"
   ]
  },
  {
   "cell_type": "markdown",
   "id": "589c7482",
   "metadata": {},
   "source": [
    "## Exploratory Analysis (EDA)"
   ]
  },
  {
   "cell_type": "code",
   "execution_count": 115,
   "id": "cf9e0133",
   "metadata": {},
   "outputs": [
    {
     "data": {
      "text/plain": [
       "array(['Stinson', 'Piper', 'Cessna', ..., 'HIBBARD NORMAN E',\n",
       "       'WASZAK ARTHUR B', 'STEPHEN J HOFFMAN'], dtype=object)"
      ]
     },
     "execution_count": 115,
     "metadata": {},
     "output_type": "execute_result"
    }
   ],
   "source": [
    "#displaying the unique make\n",
    "unique_make = df[\"Make\"].unique()\n",
    "unique_make\n",
    "                  "
   ]
  },
  {
   "cell_type": "code",
   "execution_count": 116,
   "id": "401fe99e",
   "metadata": {},
   "outputs": [
    {
     "data": {
      "text/plain": [
       "array(['108-3', 'PA24-180', '172M', ..., '305C (0-1E)',\n",
       "       'ZENAIR CH 601 HD', 'MS-500'], dtype=object)"
      ]
     },
     "execution_count": 116,
     "metadata": {},
     "output_type": "execute_result"
    }
   ],
   "source": [
    "#displaying the unique Models\n",
    "unique_model = df[\"Model\"].unique()\n",
    "unique_model"
   ]
  },
  {
   "cell_type": "code",
   "execution_count": 117,
   "id": "bdd8a263",
   "metadata": {},
   "outputs": [
    {
     "name": "stdout",
     "output_type": "stream",
     "text": [
      "Cessna      21730\n",
      "Piper       11773\n",
      "Beech        4189\n",
      "CESSNA       3929\n",
      "PIPER        2303\n",
      "Bell         1982\n",
      "Boeing       1222\n",
      "Grumman      1086\n",
      "Mooney       1078\n",
      "Bellanca      878\n",
      "Name: Make, dtype: int64\n"
     ]
    }
   ],
   "source": [
    "#count the unique values in the 'Make' column to find the number of accidents per manufacturer\n",
    "make_count = df['Make'].value_counts().head(10)\n",
    "print(make_count)\n"
   ]
  },
  {
   "cell_type": "code",
   "execution_count": 118,
   "id": "0066d2d8",
   "metadata": {},
   "outputs": [
    {
     "name": "stdout",
     "output_type": "stream",
     "text": [
      "152          2322\n",
      "172          1608\n",
      "172N         1136\n",
      "PA-28-140     893\n",
      "150           785\n",
      "172M          774\n",
      "172P          672\n",
      "180           607\n",
      "182           589\n",
      "150M          580\n",
      "Name: Model, dtype: int64\n"
     ]
    }
   ],
   "source": [
    "#count the unique values in the 'model' to find the number of accidents per model\n",
    "model_count = df['Model'].value_counts().head(10)\n",
    "print(model_count)"
   ]
  },
  {
   "cell_type": "code",
   "execution_count": 119,
   "id": "b52130f4",
   "metadata": {},
   "outputs": [
    {
     "name": "stdout",
     "output_type": "stream",
     "text": [
      "Make              Cessna\n",
      "Model                152\n",
      "Accident Count      2160\n",
      "Name: 4836, dtype: object\n"
     ]
    }
   ],
   "source": [
    "# finding the model and its make with the highest number of accidents\n",
    "accident_counts = df.groupby(['Make', 'Model']).size().reset_index(name='Accident Count')\n",
    "most_accidents = accident_counts.loc[accident_counts['Accident Count'].idxmax()]\n",
    "print(most_accidents)"
   ]
  },
  {
   "cell_type": "code",
   "execution_count": 120,
   "id": "1053be81",
   "metadata": {},
   "outputs": [
    {
     "name": "stdout",
     "output_type": "stream",
     "text": [
      "Make              107.5 Flying Corporation\n",
      "Model                    One Design DR 107\n",
      "Accident Count                           1\n",
      "Name: 0, dtype: object\n"
     ]
    }
   ],
   "source": [
    "# finding the model and its make with th lowest number of accidents\n",
    "least_accidents = df.groupby(['Make', 'Model']).size().reset_index(name='Accident Count')\n",
    "least_accidents = least_accidents.loc[least_accidents['Accident Count'].idxmin()]\n",
    "print(least_accidents)"
   ]
  },
  {
   "cell_type": "code",
   "execution_count": 121,
   "id": "4c95809e",
   "metadata": {},
   "outputs": [
    {
     "name": "stdout",
     "output_type": "stream",
     "text": [
      "Reciprocating      68991\n",
      "Turbo Shaft         3531\n",
      "Turbo Prop          3325\n",
      "Turbo Fan           2377\n",
      "Unknown              772\n",
      "Turbo Jet            695\n",
      "None                  15\n",
      "Geared Turbofan       11\n",
      "Electric               8\n",
      "LR                     2\n",
      "NONE                   2\n",
      "Hybrid Rocket          1\n",
      "UNK                    1\n",
      "Name: Engine.Type, dtype: int64\n"
     ]
    }
   ],
   "source": [
    "# Number of accidents based on engine type\n",
    "engine_type_counts = df['Engine.Type'].value_counts()\n",
    "print(engine_type_counts)"
   ]
  },
  {
   "cell_type": "code",
   "execution_count": 122,
   "id": "8b4abcba",
   "metadata": {},
   "outputs": [
    {
     "name": "stdout",
     "output_type": "stream",
     "text": [
      "1.0    67673\n",
      "2.0    10496\n",
      "0.0      692\n",
      "3.0      469\n",
      "4.0      398\n",
      "8.0        3\n",
      "Name: Number.of.Engines, dtype: int64\n"
     ]
    }
   ],
   "source": [
    "# Number of accidentsbased on number of engines\n",
    "engine_number_counts = df['Number.of.Engines'].value_counts()\n",
    "print(engine_number_counts)"
   ]
  },
  {
   "cell_type": "code",
   "execution_count": 123,
   "id": "b217e4eb",
   "metadata": {},
   "outputs": [
    {
     "name": "stdout",
     "output_type": "stream",
     "text": [
      "UNK    1\n",
      "Name: Engine.Type, dtype: int64\n"
     ]
    }
   ],
   "source": [
    "# least number of accidents based on engine type\n",
    "least_engine_type_counts = df['Engine.Type'].value_counts().tail(1)\n",
    "print(least_engine_type_counts)"
   ]
  },
  {
   "cell_type": "code",
   "execution_count": 124,
   "id": "4d77f1a4",
   "metadata": {},
   "outputs": [
    {
     "name": "stdout",
     "output_type": "stream",
     "text": [
      "Reciprocating    68991\n",
      "Name: Engine.Type, dtype: int64\n"
     ]
    }
   ],
   "source": [
    "# most number of accidents based on engine type\n",
    "most_engine_type_counts = df['Engine.Type'].value_counts().head(1)\n",
    "print(most_engine_type_counts)"
   ]
  },
  {
   "cell_type": "code",
   "execution_count": 125,
   "id": "d061a651",
   "metadata": {},
   "outputs": [],
   "source": [
    "#grouping each plane make with its repectful type\n",
    "Plane_type = df.groupby([\"Make\",\"Model\"])\n",
    "# getting the number of accident per plane type\n",
    "Planes_list = Plane_type.size().reset_index(name=\"Number_of_Accidents\").sort_values(\"Number_of_Accidents\", ascending=False).head(20)\n",
    "\n"
   ]
  },
  {
   "cell_type": "code",
   "execution_count": 126,
   "id": "2d916eb0",
   "metadata": {},
   "outputs": [
    {
     "name": "stdout",
     "output_type": "stream",
     "text": [
      "          Make      Model  Number_of_Accidents\n",
      "4836    Cessna        152                 2160\n",
      "4858    Cessna        172                 1236\n",
      "4901    Cessna       172N                  986\n",
      "13280    Piper  PA-28-140                  802\n",
      "4811    Cessna        150                  711\n",
      "4899    Cessna       172M                  657\n",
      "4904    Cessna       172P                  590\n",
      "4835    Cessna       150M                  537\n",
      "13177    Piper      PA-18                  534\n",
      "13290    Piper  PA-28-180                  498\n",
      "13289    Piper  PA-28-161                  495\n",
      "4933    Cessna        180                  488\n",
      "13297    Piper  PA-28-181                  462\n",
      "4955    Cessna        182                  449\n",
      "13429    Piper  PA-38-112                  438\n",
      "13185    Piper  PA-18-150                  437\n",
      "4834    Cessna       150L                  407\n",
      "2906      Bell       206B                  404\n",
      "4146    CESSNA        172                  370\n",
      "8476   Grumman     G-164A                  353\n"
     ]
    }
   ],
   "source": [
    "# getting the planes with the most number of accidents\n",
    "Planes_with_most_accident = Plane_type.size().reset_index(name=\"Number_of_Accidents\").sort_values(\"Number_of_Accidents\", ascending=False).head(20)\n",
    "print(Planes_with_most_accident)\n"
   ]
  },
  {
   "cell_type": "code",
   "execution_count": 127,
   "id": "57ac95a0",
   "metadata": {},
   "outputs": [
    {
     "name": "stdout",
     "output_type": "stream",
     "text": [
      "                              Make          Model  Number_of_Accidents\n",
      "7329                    Eurocopter       EC 130B4                    1\n",
      "7330                    Eurocopter      EC-135-P1                    1\n",
      "7331                    Eurocopter       EC-135P1                    1\n",
      "7332                    Eurocopter          EC120                    1\n",
      "7335                    Eurocopter          EC135                    1\n",
      "7336                    Eurocopter   MBB-BK117-B2                    1\n",
      "7337                    Eurocopter         SA315B                    1\n",
      "7338        Eurocopter Deutschland      BK-117-B2                    1\n",
      "7339        Eurocopter Deutschland          BK117                    1\n",
      "7340        Eurocopter Deutschland        BK117C1                    1\n",
      "7341        Eurocopter Deutschland    BO-105 CBS5                    1\n",
      "7342        Eurocopter Deutschland      EC 135 P2                    1\n",
      "7343        Eurocopter Deutschland     EC 135 P2+                    1\n",
      "7344        Eurocopter Deutschland      EC-135 P1                    1\n",
      "7345        Eurocopter Deutschland        EC135T1                    1\n",
      "7346        Eurocopter Deutschland        EC135T2                    1\n",
      "7347   Eurocopter Deutschland Gmbh  MBB BK-117 A4                    1\n",
      "7348             Eurocopter France      AS 350 B2                    1\n",
      "7349             Eurocopter France      AS 350 B3                    1\n",
      "17690                      unknown            kit                    1\n"
     ]
    }
   ],
   "source": [
    "# getting the list of planes with the list number of accidents\n",
    "planes_with_least_accidents = Plane_type.size().reset_index(name=\"Number_of_Accidents\").sort_values(\"Number_of_Accidents\", ascending=False).tail(20)\n",
    "print(planes_with_least_accidents)\n"
   ]
  },
  {
   "cell_type": "markdown",
   "id": "1b894b90",
   "metadata": {},
   "source": [
    "## Visualisation"
   ]
  },
  {
   "cell_type": "code",
   "execution_count": 128,
   "id": "08b4c5e1",
   "metadata": {},
   "outputs": [
    {
     "data": {
      "image/png": "[encoded data removed]",
      "text/plain": [
       "<Figure size 864x432 with 1 Axes>"
      ]
     },
     "metadata": {
      "needs_background": "light"
     },
     "output_type": "display_data"
    }
   ],
   "source": [
    "# visualization of the top 10 manufacturers with the most accidents\n",
    "plt.figure(figsize=(12,6))\n",
    "sns.barplot(x=make_count.index, y=make_count.values, palette='viridis')\n",
    "plt.title('Top 10 Manufacturers with Most Accidents')\n",
    "plt.xlabel('Manufacturer')\n",
    "plt.ylabel('Number of Accidents')\n",
    "plt.xticks(rotation=45)\n",
    "plt.show()"
   ]
  },
  {
   "cell_type": "code",
   "execution_count": 129,
   "id": "c7ed25d3",
   "metadata": {},
   "outputs": [
    {
     "data": {
      "image/png": "[encoded data removed]",
      "text/plain": [
       "<Figure size 360x360 with 1 Axes>"
      ]
     },
     "metadata": {
      "needs_background": "light"
     },
     "output_type": "display_data"
    }
   ],
   "source": [
    "# Visualising the relationship between the number of engines and accidents\n",
    "plt.figure(figsize=(5,5))\n",
    "plt.bar(engine_number_counts.index, engine_number_counts.values, color='Green')\n",
    "plt.title('Number of Accidents by Number of Engines')\n",
    "plt.xlabel('Number of Engines')\n",
    "plt.ylabel('Number of Accidents')\n",
    "plt.show()"
   ]
  },
  {
   "cell_type": "code",
   "execution_count": 130,
   "id": "76d3ae6f",
   "metadata": {},
   "outputs": [
    {
     "data": {
      "image/png": "[encoded data removed]",
      "text/plain": [
       "<Figure size 720x432 with 1 Axes>"
      ]
     },
     "metadata": {
      "needs_background": "light"
     },
     "output_type": "display_data"
    }
   ],
   "source": [
    "# Visualisation of the number of accidents based on engine type\n",
    "plt.figure(figsize=(10,6))\n",
    "sns.barplot(x=engine_type_counts.index, y=engine_type_counts.values, palette='magma')\n",
    "plt.title('Number of Accidents by Engine Type')\n",
    "plt.xlabel('Engine Type')\n",
    "plt.ylabel('Number of Accidents')\n",
    "plt.xticks(rotation=45)\n",
    "plt.show()"
   ]
  },
  {
   "cell_type": "code",
   "execution_count": 131,
   "id": "b0040069",
   "metadata": {},
   "outputs": [
    {
     "data": {
      "image/png": "[encoded data removed]",
      "text/plain": [
       "<Figure size 720x360 with 1 Axes>"
      ]
     },
     "metadata": {
      "needs_background": "light"
     },
     "output_type": "display_data"
    }
   ],
   "source": [
    "#converting the 'Event.Date' column to datetime format and extracting the year\n",
    "\n",
    "df['Year'] = pd.to_datetime(df['Event.Date']).dt.year\n",
    "\n",
    "#filter data from 2000 onwards\n",
    "df = df[df['Year'] >= 2000]\n",
    "\n",
    "#counting the number of accidents per year\n",
    "accidents_per_year = df['Year'].value_counts().sort_index()\n",
    "\n",
    "# Visualisation of the number of accidents as the year progresses\n",
    "plt.figure(figsize=(10,5))\n",
    "plt.plot(accidents_per_year.index, accidents_per_year.values, linestyle ='-', color = 'brown')\n",
    "plt.title('Number of Accidents From 2000 Onwards')\n",
    "plt.xlabel('Year')\n",
    "plt.ylabel('Number of Accidents')\n",
    "plt.grid(True)\n",
    "plt.show()  "
   ]
  },
  {
   "cell_type": "markdown",
   "id": "8fde4886",
   "metadata": {},
   "source": [
    "This graph shows that the frequency of aircraft accidents has gradually decreased from 2000 to 2022. This indicates that aviation safety standards and technologies are improving over time which reduces overall busssiness risk for entering the industry today."
   ]
  }
 ],
 "metadata": {
  "kernelspec": {
   "display_name": "learn-env",
   "language": "python",
   "name": "python3"
  },
  "language_info": {
   "codemirror_mode": {
    "name": "ipython",
    "version": 3
   },
   "file_extension": ".py",
   "mimetype": "text/x-python",
   "name": "python",
   "nbconvert_exporter": "python",
   "pygments_lexer": "ipython3",
   "version": "3.8.5"
  }
 },
 "nbformat": 4,
 "nbformat_minor": 5
}
